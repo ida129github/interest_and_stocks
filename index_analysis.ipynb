{
  "nbformat": 4,
  "nbformat_minor": 0,
  "metadata": {
    "colab": {
      "provenance": [],
      "toc_visible": true,
      "authorship_tag": "ABX9TyNSyZoga2cKfjNDdNO9A9Oa",
      "include_colab_link": true
    },
    "kernelspec": {
      "name": "python3",
      "display_name": "Python 3"
    },
    "language_info": {
      "name": "python"
    }
  },
  "cells": [
    {
      "cell_type": "markdown",
      "metadata": {
        "id": "view-in-github",
        "colab_type": "text"
      },
      "source": [
        "<a href=\"https://colab.research.google.com/github/ida129github/interest_and_stocks/blob/main/index_analysis.ipynb\" target=\"_parent\"><img src=\"https://colab.research.google.com/assets/colab-badge.svg\" alt=\"Open In Colab\"/></a>"
      ]
    },
    {
      "cell_type": "markdown",
      "source": [
        "#Interest Rates and Investment: A Data-Driven Analysis of US Stock Performance\n",
        "\n",
        "##Introduction\n",
        "\n",
        "###*Don't buy sotcks when interests are going up. --Is this True?*\n",
        "This analysis aims for  ***fact-checking***.\n",
        "\n",
        "It's generally advised to avoid investing during interest hike periods because higher rates increase borrowing costs, reduce consumer/business spending, and lead to lower corporate profits and stock prices. I wil use the historical data of Fed Interest rate and three major US stock indexes to identify which period (interest hike or interest cut) yields a higher return in the US stock market.\n",
        "\n",
        "###Methodology:\n",
        "####*Identify Interest Hike and Cut Period*\n",
        "\n",
        "The official website of the Federal Open Market Committee's (FOMC) adjusts Fed interest rate irregularly. It's  decition to increase or decrease Fed interest rate from are listed out in their website from July 13, 1990, on which a decision was made to cut interest rate. The downturn of interest rate would  only be reveresed when FOMC announce for an increase. The period between interest increase and decrease date formed an Interest Cut period, and vice versa, a Interest Hike period.\n",
        "\n",
        "Since FOMC change interest rate very infrequenlty, there are only 6 Interest Hike and 6 Interest Cut period froom 1990 2022, with the start/ end day of the periods listed as below:\n",
        "\n",
        "\n",
        "1.   1990/07/13 -- start of decrease\n",
        "2.   1994/02/04 -- end of decrease, start of increase\n",
        "3.   1995/07/06 -- end of increase, start of decresae\n",
        "4.   1997/03/25 -- end of decrease, start of increase\n",
        "5.   1998/09/29 -- end of increase, start of decresae\n",
        "6.   1999/06/30 -- end of decrease, start of increase\n",
        "7.   2001/01/03 -- end of increase, start of decresae\n",
        "8.   2004/06/30 -- end of decrease, start of increase\n",
        "9.   2007/09/18 -- end of increase, start of decresae\n",
        "10.  2015/12/17 -- end of decrease, start of increase\n",
        "11.  2019/08/01 -- end of increase, start of decresae\n",
        "12.  2022/03/17 -- end of decrease, start of increase\n",
        "\n",
        "####*Analyze the Peformance of 3 major Indexes*\n",
        "1.   S&P 500\n",
        "2.   Dow Jones\n",
        "3.   Nasdaq\n",
        "\n",
        "* The analysis will assume that an investor bought stock on the first day of each period and sold on the last day of the period.\n",
        "\n",
        "* A comparison will be made between the returns achieved during interest hike and interest cut periods.\n",
        "\n"
      ],
      "metadata": {
        "id": "wVpJSTc3G9db"
      }
    },
    {
      "cell_type": "markdown",
      "source": [
        "## Import Stock Data using yfinance"
      ],
      "metadata": {
        "id": "qBwyUgm3HWiH"
      }
    },
    {
      "cell_type": "code",
      "execution_count": 3,
      "metadata": {
        "id": "HoeICS8lG5lK",
        "colab": {
          "base_uri": "https://localhost:8080/"
        },
        "outputId": "714b45fd-d532-43c5-ee5b-958c12d82f9a"
      },
      "outputs": [
        {
          "output_type": "stream",
          "name": "stdout",
          "text": [
            "[*********************100%***********************]  3 of 3 completed\n",
            "               Adj Close                                    Close  \\\n",
            "                    ^DJI        ^GSPC          ^NDX          ^DJI   \n",
            "Date                                                                \n",
            "1990-07-13           NaN   367.309998    244.740005           NaN   \n",
            "1990-07-16           NaN   368.950012    246.179993           NaN   \n",
            "1990-07-17           NaN   367.519989    241.524994           NaN   \n",
            "1990-07-18           NaN   364.220001    238.220001           NaN   \n",
            "1990-07-19           NaN   365.320007    236.399994           NaN   \n",
            "...                  ...          ...           ...           ...   \n",
            "2022-03-11  32944.191406  4204.310059  13301.830078  32944.191406   \n",
            "2022-03-14  32945.238281  4173.109863  13046.639648  32945.238281   \n",
            "2022-03-15  33544.339844  4262.450195  13458.559570  33544.339844   \n",
            "2022-03-16  34063.101562  4357.859863  13956.790039  34063.101562   \n",
            "2022-03-17  34480.761719  4411.669922  14118.599609  34480.761719   \n",
            "\n",
            "                                               High               \\\n",
            "                  ^GSPC          ^NDX          ^DJI        ^GSPC   \n",
            "Date                                                               \n",
            "1990-07-13   367.309998    244.740005           NaN   369.679993   \n",
            "1990-07-16   368.950012    246.179993           NaN   369.779999   \n",
            "1990-07-17   367.519989    241.524994           NaN   369.399994   \n",
            "1990-07-18   364.220001    238.220001           NaN   367.519989   \n",
            "1990-07-19   365.320007    236.399994           NaN   365.320007   \n",
            "...                 ...           ...           ...          ...   \n",
            "2022-03-11  4204.310059  13301.830078  33515.609375  4291.009766   \n",
            "2022-03-14  4173.109863  13046.639648  33395.589844  4247.569824   \n",
            "2022-03-15  4262.450195  13458.559570  33620.839844  4271.049805   \n",
            "2022-03-16  4357.859863  13956.790039  34075.941406  4358.899902   \n",
            "2022-03-17  4411.669922  14118.599609  34483.921875  4412.669922   \n",
            "\n",
            "                                   Low                             \\\n",
            "                    ^NDX          ^DJI        ^GSPC          ^NDX   \n",
            "Date                                                                \n",
            "1990-07-13    246.470001           NaN   365.450012    243.130005   \n",
            "1990-07-16    246.815002           NaN   367.309998    244.250000   \n",
            "1990-07-17    246.389999           NaN   364.989990    240.934998   \n",
            "1990-07-18    241.524994           NaN   362.950012    237.324997   \n",
            "1990-07-19    238.220001           NaN   361.290009    233.139999   \n",
            "...                  ...           ...          ...           ...   \n",
            "2022-03-11  13714.440430  32911.890625  4200.490234  13285.190430   \n",
            "2022-03-14  13386.669922  32818.160156  4161.720215  13020.400391   \n",
            "2022-03-15  13488.179688  32989.269531  4187.899902  13092.450195   \n",
            "2022-03-16  13960.250000  33391.238281  4251.990234  13475.089844   \n",
            "2022-03-17  14125.669922  33896.058594  4335.649902  13827.339844   \n",
            "\n",
            "                    Open                                  Volume              \\\n",
            "                    ^DJI        ^GSPC          ^NDX         ^DJI       ^GSPC   \n",
            "Date                                                                           \n",
            "1990-07-13           NaN   365.450012    243.425003          NaN   215600000   \n",
            "1990-07-16           NaN   367.309998    244.740005          NaN   149430000   \n",
            "1990-07-17           NaN   368.950012    246.179993          NaN   176790000   \n",
            "1990-07-18           NaN   367.519989    241.524994          NaN   168760000   \n",
            "1990-07-19           NaN   364.220001    238.220001          NaN   161990000   \n",
            "...                  ...          ...           ...          ...         ...   \n",
            "2022-03-11  33279.718750  4279.500000  13701.799805  369480000.0  4938640000   \n",
            "2022-03-14  33000.371094  4202.750000  13248.089844  394940000.0  5574920000   \n",
            "2022-03-15  32989.269531  4188.819824  13174.969727  388810000.0  5392470000   \n",
            "2022-03-16  33653.929688  4288.140137  13633.120117  427400000.0  6309750000   \n",
            "2022-03-17  33995.390625  4345.109863  13878.990234  339470000.0  4985090000   \n",
            "\n",
            "                        \n",
            "                  ^NDX  \n",
            "Date                    \n",
            "1990-07-13   321180000  \n",
            "1990-07-16   276140000  \n",
            "1990-07-17   335620000  \n",
            "1990-07-18   317980000  \n",
            "1990-07-19   365120000  \n",
            "...                ...  \n",
            "2022-03-11  5288210000  \n",
            "2022-03-14  5876710000  \n",
            "2022-03-15  5440100000  \n",
            "2022-03-16  6552210000  \n",
            "2022-03-17  5612090000  \n",
            "\n",
            "[7982 rows x 18 columns]\n"
          ]
        }
      ],
      "source": [
        "import yfinance as yf\n",
        "import pandas as pd\n",
        "\n",
        "tickers = [\"^GSPC\", \"^NDX\", \"^DJI\"]  # S&P 500, NASDAQ 100, and Dow Jones ticker symbols\n",
        "start_date = \"1990-07-13\" #\n",
        "end_date = \"2022-03-18\"\n",
        "\n",
        "data = yf.download(tickers, start=start_date, end=end_date)\n",
        "print (data)\n"
      ]
    },
    {
      "cell_type": "markdown",
      "source": [
        "## Data Cleaning"
      ],
      "metadata": {
        "id": "XMELRQNH1VDY"
      }
    },
    {
      "cell_type": "code",
      "source": [
        "# extract close price of key dates\n",
        "\n",
        "# Define the desired dates\n",
        "dates = [pd.Timestamp('1994-02-04'),\n",
        "         pd.Timestamp('1995-07-06'),\n",
        "         pd.Timestamp('1997-03-25'),\n",
        "         pd.Timestamp('1998-09-29'),\n",
        "         pd.Timestamp('1999-06-03'),\n",
        "         pd.Timestamp('2001-01-03'),\n",
        "         pd.Timestamp('2004-06-30'),\n",
        "         pd.Timestamp('2007-09-18'),\n",
        "         pd.Timestamp('2015-12-17'),\n",
        "         pd.Timestamp('2019-08-01'),\n",
        "         pd.Timestamp('2022-03-17')]\n",
        "\n",
        "# Select the rows corresponding to the desired dates\n",
        "selected_data = data.loc[dates]\n",
        "\n",
        "# Select the 'Close' column for all ticker symbols\n",
        "close_data = selected_data.xs('Close', level=0, axis=1)\n",
        "\n",
        "# Print the resulting DataFrame\n",
        "print(close_data)\n"
      ],
      "metadata": {
        "colab": {
          "base_uri": "https://localhost:8080/"
        },
        "id": "WotkMlHAJSeX",
        "outputId": "01f5d737-d5f8-4f04-eadb-d82b51e1393b"
      },
      "execution_count": 8,
      "outputs": [
        {
          "output_type": "stream",
          "name": "stdout",
          "text": [
            "                    ^DJI        ^GSPC          ^NDX\n",
            "Date                                               \n",
            "1994-02-04   3871.419922   469.809998    397.480011\n",
            "1995-07-06   4664.000000   553.989990    553.869995\n",
            "1997-03-25   6876.169922   789.070007    807.190002\n",
            "1998-09-29   8080.520020  1049.020020   1384.890015\n",
            "1999-06-03  10663.690430  1299.540039   2030.400024\n",
            "2001-01-03  10945.750000  1347.560059   2528.379883\n",
            "2004-06-30  10435.480469  1140.839966   1516.640015\n",
            "2007-09-18  13739.389648  1519.780029   2035.369995\n",
            "2015-12-17  17495.839844  2041.890015   4598.140137\n",
            "2019-08-01  26583.419922  2953.560059   7801.149902\n",
            "2022-03-17  34480.761719  4411.669922  14118.599609\n"
          ]
        }
      ]
    },
    {
      "cell_type": "code",
      "source": [
        "# find the price trend of DJI, GSPC(SPX) and NDX in the cycles\n",
        "price_trend_DJI = []\n",
        "x = 0\n",
        "\n",
        "while x < close_data.shape[0]:\n",
        "    if x == 0:\n",
        "      price_trend_DJI.append ('no data')\n",
        "    elif close_data.iloc[x,0] > close_data.iloc[x-1,0]:\n",
        "        price_trend_DJI.append('price up')\n",
        "    elif close_data.iloc[x, 0] == close_data.iloc[x-1, 0]:\n",
        "        price_trend_DJI.append('same price')\n",
        "    else :\n",
        "        price_trend_DJI.append('price down')\n",
        "    x += 1\n",
        "\n",
        "price_trend_SPX = []\n",
        "x = 0\n",
        "\n",
        "while x < close_data.shape[0]:\n",
        "    if x == 0:\n",
        "      price_trend_SPX.append ('no data')\n",
        "    elif close_data.iloc[x,1] > close_data.iloc[x-1,1]:\n",
        "        price_trend_SPX.append('price up')\n",
        "    elif close_data.iloc[x, 1] == close_data.iloc[x-1, 1]:\n",
        "        price_trend_SPX.append('same price')\n",
        "    else :\n",
        "        price_trend_SPX.append('price down')\n",
        "    x += 1\n",
        "\n",
        "price_trend_NDX = []\n",
        "x = 0\n",
        "\n",
        "while x < close_data.shape[0]:\n",
        "    if x == 0:\n",
        "      price_trend_NDX.append ('no data')\n",
        "    elif close_data.iloc[x,2] > close_data.iloc[x-1,2]:\n",
        "        price_trend_NDX.append('price up')\n",
        "    elif close_data.iloc[x, 2] == close_data.iloc[x-1, 2]:\n",
        "        price_trend_NDX.append('same price')\n",
        "    else :\n",
        "        price_trend_NDX.append('price down')\n",
        "    x += 1\n",
        "\n",
        "\n",
        "print (price_trend_DJI, price_trend_SPX, price_trend_NDX)\n",
        "print (close_data)\n",
        "\n"
      ],
      "metadata": {
        "colab": {
          "base_uri": "https://localhost:8080/"
        },
        "id": "TkoA_XtnjrRf",
        "outputId": "40b4fdfb-4006-4cfe-f0bc-e9fc0aec85ae"
      },
      "execution_count": 9,
      "outputs": [
        {
          "output_type": "stream",
          "name": "stdout",
          "text": [
            "['no data', 'price up', 'price up', 'price up', 'price up', 'price up', 'price down', 'price up', 'price up', 'price up', 'price up'] ['no data', 'price up', 'price up', 'price up', 'price up', 'price up', 'price down', 'price up', 'price up', 'price up', 'price up'] ['no data', 'price up', 'price up', 'price up', 'price up', 'price up', 'price down', 'price up', 'price up', 'price up', 'price up']\n",
            "                    ^DJI        ^GSPC          ^NDX\n",
            "Date                                               \n",
            "1994-02-04   3871.419922   469.809998    397.480011\n",
            "1995-07-06   4664.000000   553.989990    553.869995\n",
            "1997-03-25   6876.169922   789.070007    807.190002\n",
            "1998-09-29   8080.520020  1049.020020   1384.890015\n",
            "1999-06-03  10663.690430  1299.540039   2030.400024\n",
            "2001-01-03  10945.750000  1347.560059   2528.379883\n",
            "2004-06-30  10435.480469  1140.839966   1516.640015\n",
            "2007-09-18  13739.389648  1519.780029   2035.369995\n",
            "2015-12-17  17495.839844  2041.890015   4598.140137\n",
            "2019-08-01  26583.419922  2953.560059   7801.149902\n",
            "2022-03-17  34480.761719  4411.669922  14118.599609\n"
          ]
        }
      ]
    },
    {
      "cell_type": "code",
      "source": [
        "#insert price_trend and interest_cycle columns to close_data\n",
        "\n",
        "close_data.insert (3, column='interest cycle', value=['end of downward','end of upward','end of downward','end of upward','end of downward','end of upward','end of downward','end of upward','end of downward','end of upward','end of downeard'])\n",
        "close_data.insert (1, column=\"DJI trend\", value=price_trend_DJI)\n",
        "close_data.insert (3, column='SPX trend', value=price_trend_SPX)\n",
        "close_data.insert (5, column='NDX trend', value=price_trend_NDX)\n",
        "\n",
        "print (close_data)"
      ],
      "metadata": {
        "colab": {
          "base_uri": "https://localhost:8080/"
        },
        "id": "ByCc7YfelP7C",
        "outputId": "1c86b5f0-2643-486b-c609-b37e3b10ea24"
      },
      "execution_count": 10,
      "outputs": [
        {
          "output_type": "stream",
          "name": "stdout",
          "text": [
            "                    ^DJI   DJI trend        ^GSPC   SPX trend          ^NDX  \\\n",
            "Date                                                                          \n",
            "1994-02-04   3871.419922     no data   469.809998     no data    397.480011   \n",
            "1995-07-06   4664.000000    price up   553.989990    price up    553.869995   \n",
            "1997-03-25   6876.169922    price up   789.070007    price up    807.190002   \n",
            "1998-09-29   8080.520020    price up  1049.020020    price up   1384.890015   \n",
            "1999-06-03  10663.690430    price up  1299.540039    price up   2030.400024   \n",
            "2001-01-03  10945.750000    price up  1347.560059    price up   2528.379883   \n",
            "2004-06-30  10435.480469  price down  1140.839966  price down   1516.640015   \n",
            "2007-09-18  13739.389648    price up  1519.780029    price up   2035.369995   \n",
            "2015-12-17  17495.839844    price up  2041.890015    price up   4598.140137   \n",
            "2019-08-01  26583.419922    price up  2953.560059    price up   7801.149902   \n",
            "2022-03-17  34480.761719    price up  4411.669922    price up  14118.599609   \n",
            "\n",
            "             NDX trend   interest cycle  \n",
            "Date                                     \n",
            "1994-02-04     no data  end of downward  \n",
            "1995-07-06    price up    end of upward  \n",
            "1997-03-25    price up  end of downward  \n",
            "1998-09-29    price up    end of upward  \n",
            "1999-06-03    price up  end of downward  \n",
            "2001-01-03    price up    end of upward  \n",
            "2004-06-30  price down  end of downward  \n",
            "2007-09-18    price up    end of upward  \n",
            "2015-12-17    price up  end of downward  \n",
            "2019-08-01    price up    end of upward  \n",
            "2022-03-17    price up  end of downeard  \n"
          ]
        }
      ]
    },
    {
      "cell_type": "code",
      "source": [
        "\n",
        "# calculate the year difference between each period and store the result in a new column\n",
        "close_data['year_diff'] = close_data.index.to_series().diff() / pd.Timedelta(days=365.2425)\n",
        "\n",
        "# print the updated dataframe\n",
        "print(close_data)\n"
      ],
      "metadata": {
        "id": "jXqRC7Mcybsi",
        "colab": {
          "base_uri": "https://localhost:8080/"
        },
        "outputId": "8757b8ad-9f48-45dd-8a39-6948f97a57be"
      },
      "execution_count": 11,
      "outputs": [
        {
          "output_type": "stream",
          "name": "stdout",
          "text": [
            "                    ^DJI   DJI trend        ^GSPC   SPX trend          ^NDX  \\\n",
            "Date                                                                          \n",
            "1994-02-04   3871.419922     no data   469.809998     no data    397.480011   \n",
            "1995-07-06   4664.000000    price up   553.989990    price up    553.869995   \n",
            "1997-03-25   6876.169922    price up   789.070007    price up    807.190002   \n",
            "1998-09-29   8080.520020    price up  1049.020020    price up   1384.890015   \n",
            "1999-06-03  10663.690430    price up  1299.540039    price up   2030.400024   \n",
            "2001-01-03  10945.750000    price up  1347.560059    price up   2528.379883   \n",
            "2004-06-30  10435.480469  price down  1140.839966  price down   1516.640015   \n",
            "2007-09-18  13739.389648    price up  1519.780029    price up   2035.369995   \n",
            "2015-12-17  17495.839844    price up  2041.890015    price up   4598.140137   \n",
            "2019-08-01  26583.419922    price up  2953.560059    price up   7801.149902   \n",
            "2022-03-17  34480.761719    price up  4411.669922    price up  14118.599609   \n",
            "\n",
            "             NDX trend   interest cycle  year_diff  \n",
            "Date                                                \n",
            "1994-02-04     no data  end of downward        NaN  \n",
            "1995-07-06    price up    end of upward   1.415498  \n",
            "1997-03-25    price up  end of downward   1.719406  \n",
            "1998-09-29    price up    end of upward   1.514063  \n",
            "1999-06-03    price up  end of downward   0.676263  \n",
            "2001-01-03    price up    end of upward   1.587986  \n",
            "2004-06-30  price down  end of downward   3.488094  \n",
            "2007-09-18    price up    end of upward   3.217041  \n",
            "2015-12-17    price up  end of downward   8.246576  \n",
            "2019-08-01    price up    end of upward   3.622251  \n",
            "2022-03-17    price up  end of downeard   2.625653  \n"
          ]
        }
      ]
    },
    {
      "cell_type": "markdown",
      "source": [
        "## Export dataframe to excel for analysis\n",
        "\n",
        "###Advantages:\n",
        "More efficient to process the small data set.\n",
        "\n",
        "### Data Processing in Excel (data stored into a new table & sheet)\n",
        "\n",
        "1.   Calculate annualised ROI of each indexs during Interest Hike and Interest Cut Period with  IF fucntion\n",
        "2.   Calculate annualised ROI of all-weather investment over the whole period (1994- 2022)\n",
        "3.   Calculate the ROI of each indexs during Interest Hike and Interest Cut Period with  IF fucntion\n",
        "4.   Calculate ROI of all-weather investment over the whole period (1994- 2022)\n",
        "\n",
        "*ROI- Return on Investment\n",
        "\n",
        "*All-weather investment - Buy at the start of the period and sell at the end of the period regardless of changes in interest rates.\n",
        "\n",
        "* The proccessed data are imported back to this environment for record"
      ],
      "metadata": {
        "id": "J8m93pUdPoYK"
      }
    },
    {
      "cell_type": "code",
      "source": [
        "# export to excel\n",
        "\n",
        "close_data.to_excel('close_data.xlsx')\n"
      ],
      "metadata": {
        "id": "cqk18OtqP34G"
      },
      "execution_count": 12,
      "outputs": []
    },
    {
      "cell_type": "code",
      "source": [
        "# import the processed excel\n",
        "from google.colab import drive\n",
        "drive.mount('/content/drive')\n",
        "\n",
        "import pandas as pd\n",
        "\n",
        "file_path = \"/content/drive/MyDrive/Capstone Project/index_analysis.xlsx\"\n",
        "\n",
        "df = pd.read_excel(file_path)\n",
        "print (df)"
      ],
      "metadata": {
        "colab": {
          "base_uri": "https://localhost:8080/"
        },
        "id": "L9atpSjINOhg",
        "outputId": "d054ae63-d3a2-4e5e-94f3-f9ed2e5a246d"
      },
      "execution_count": 16,
      "outputs": [
        {
          "output_type": "stream",
          "name": "stdout",
          "text": [
            "Drive already mounted at /content/drive; to attempt to forcibly remount, call drive.mount(\"/content/drive\", force_remount=True).\n",
            "     Date          ^DJI   DJI_trend  DJI_cycle_return  DJI_annualised_return  \\\n",
            "0   34369   3871.419922         NaN               NaN                    NaN   \n",
            "1   34886   4664.000000    price up          1.204726               0.140630   \n",
            "2   35514   6876.169922    price up          1.474307               0.253286   \n",
            "3   36067   8080.520020    price up          1.175148               0.112486   \n",
            "4   36314  10663.690430    price up          1.319679               0.507086   \n",
            "5   36894  10945.750000    price up          1.026450               0.016576   \n",
            "6   38168  10435.480469  price down          0.953382              -0.013593   \n",
            "7   39343  13739.389648    price up          1.316603               0.089261   \n",
            "8   42355  17495.839844    price up          1.273407               0.029742   \n",
            "9   43678  26583.419922    price up          1.519414               0.122420   \n",
            "10  44637  34480.761719    price up          1.297078               0.104140   \n",
            "\n",
            "          ^GSPC   SPX_trend  spx_cycle_return  SPX_annualised_return  \\\n",
            "0    469.809998         NaN               NaN                    NaN   \n",
            "1    553.989990    price up          1.179179               0.123488   \n",
            "2    789.070007    price up          1.424340               0.228404   \n",
            "3   1049.020020    price up          1.329438               0.206923   \n",
            "4   1299.540039    price up          1.238813               0.372553   \n",
            "5   1347.560059    price up          1.036952               0.023113   \n",
            "6   1140.839966  price down          0.846597              -0.046621   \n",
            "7   1519.780029    price up          1.332159               0.093245   \n",
            "8   2041.890015    price up          1.343543               0.036459   \n",
            "9   2953.560059    price up          1.446483               0.107281   \n",
            "10  4411.669922    price up          1.493679               0.165111   \n",
            "\n",
            "            ^NDX   NDX_trend  NDX_cycle_return  NDX_annualised_return   \\\n",
            "0     397.480011         NaN               NaN                     NaN   \n",
            "1     553.869995    price up          1.393454                0.264143   \n",
            "2     807.190002    price up          1.457364                0.244889   \n",
            "3    1384.890015    price up          1.715693                0.428372   \n",
            "4    2030.400024    price up          1.466109                0.760810   \n",
            "5    2528.379883    price up          1.245262                0.148123   \n",
            "6    1516.640015  price down          0.599847               -0.136293   \n",
            "7    2035.369995    price up          1.342026                0.095756   \n",
            "8    4598.140137    price up          2.259118                0.103874   \n",
            "9    7801.149902    price up          1.696588                0.157123   \n",
            "10  14118.599609    price up          1.809810                0.253492   \n",
            "\n",
            "     interest_cycle  year_diff  \n",
            "0   end of downward        NaN  \n",
            "1     end of upward   1.415498  \n",
            "2   end of downward   1.719406  \n",
            "3     end of upward   1.514063  \n",
            "4   end of downward   0.676263  \n",
            "5     end of upward   1.587986  \n",
            "6   end of downward   3.488094  \n",
            "7     end of upward   3.217041  \n",
            "8   end of downward   8.246576  \n",
            "9     end of upward   3.622251  \n",
            "10  end of downward   2.625653  \n"
          ]
        }
      ]
    },
    {
      "cell_type": "markdown",
      "source": [
        "##Findings --- Visualisation by tableau\n",
        "\n",
        "### Finding 1: The annualised return of investment (ROI) is higher during Interest Hike Perid !\n",
        "###*Breaking the generally beleievd myth!!!*"
      ],
      "metadata": {
        "id": "OKqPLbfw3nZf"
      }
    },
    {
      "cell_type": "code",
      "source": [
        "from IPython.display import HTML\n",
        "\n",
        "embed_code = \"<div class='tableauPlaceholder' id='viz1690357454652' style='position: relative'><noscript><a href='#'><img alt='Stocks and Interest ' src='https:&#47;&#47;public.tableau.com&#47;static&#47;images&#47;Su&#47;SuprisingTruthAboutInvestinginUSStockswhenInterestRatesRise&#47;StocksandInterest&#47;1_rss.png' style='border: none' /></a></noscript><object class='tableauViz'  style='display:none;'><param name='host_url' value='https%3A%2F%2Fpublic.tableau.com%2F' /> <param name='embed_code_version' value='3' /> <param name='site_root' value='' /><param name='name' value='SuprisingTruthAboutInvestinginUSStockswhenInterestRatesRise&#47;StocksandInterest' /><param name='tabs' value='no' /><param name='toolbar' value='yes' /><param name='static_image' value='https:&#47;&#47;public.tableau.com&#47;static&#47;images&#47;Su&#47;SuprisingTruthAboutInvestinginUSStockswhenInterestRatesRise&#47;StocksandInterest&#47;1.png' /> <param name='animate_transition' value='yes' /><param name='display_static_image' value='yes' /><param name='display_spinner' value='yes' /><param name='display_overlay' value='yes' /><param name='display_count' value='yes' /><param name='language' value='zh-TW' /></object></div><script type='text/javascript'>var divElement = document.getElementById('viz1690357454652');var vizElement = divElement.getElementsByTagName('object')[0];vizElement.style.width='100%';vizElement.style.height=(divElement.offsetWidth*0.75)+'px';var scriptElement = document.createElement('script');scriptElement.src = 'https://public.tableau.com/javascripts/api/viz_v1.js';vizElement.parentNode.insertBefore(scriptElement, vizElement);</script>\"\n",
        "\n",
        "HTML(embed_code)"
      ],
      "metadata": {
        "colab": {
          "base_uri": "https://localhost:8080/",
          "height": 1000
        },
        "id": "Y8XY9ySfK9cn",
        "outputId": "de31e4cd-95d5-448d-8ba3-d60480d0b1d5"
      },
      "execution_count": 4,
      "outputs": [
        {
          "output_type": "execute_result",
          "data": {
            "text/plain": [
              "<IPython.core.display.HTML object>"
            ],
            "text/html": [
              "<div class='tableauPlaceholder' id='viz1690357454652' style='position: relative'><noscript><a href='#'><img alt='Stocks and Interest ' src='https:&#47;&#47;public.tableau.com&#47;static&#47;images&#47;Su&#47;SuprisingTruthAboutInvestinginUSStockswhenInterestRatesRise&#47;StocksandInterest&#47;1_rss.png' style='border: none' /></a></noscript><object class='tableauViz'  style='display:none;'><param name='host_url' value='https%3A%2F%2Fpublic.tableau.com%2F' /> <param name='embed_code_version' value='3' /> <param name='site_root' value='' /><param name='name' value='SuprisingTruthAboutInvestinginUSStockswhenInterestRatesRise&#47;StocksandInterest' /><param name='tabs' value='no' /><param name='toolbar' value='yes' /><param name='static_image' value='https:&#47;&#47;public.tableau.com&#47;static&#47;images&#47;Su&#47;SuprisingTruthAboutInvestinginUSStockswhenInterestRatesRise&#47;StocksandInterest&#47;1.png' /> <param name='animate_transition' value='yes' /><param name='display_static_image' value='yes' /><param name='display_spinner' value='yes' /><param name='display_overlay' value='yes' /><param name='display_count' value='yes' /><param name='language' value='zh-TW' /></object></div><script type='text/javascript'>var divElement = document.getElementById('viz1690357454652');var vizElement = divElement.getElementsByTagName('object')[0];vizElement.style.width='100%';vizElement.style.height=(divElement.offsetWidth*0.75)+'px';var scriptElement = document.createElement('script');scriptElement.src = 'https://public.tableau.com/javascripts/api/viz_v1.js';vizElement.parentNode.insertBefore(scriptElement, vizElement);</script>"
            ]
          },
          "metadata": {},
          "execution_count": 4
        }
      ]
    }
  ]
}